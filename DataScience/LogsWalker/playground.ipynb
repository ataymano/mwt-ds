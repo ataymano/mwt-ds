{
 "cells": [
  {
   "cell_type": "code",
   "execution_count": 76,
   "metadata": {},
   "outputs": [],
   "source": [
    "from LogsWalker import Workspace, AppContext, InstanceContext, DayContext, DaySegment\n",
    "from LogsParser import DsJson\n",
    "import datetime\n",
    "import pandas as pd\n",
    "\n",
    "#fill your credentials here\n",
    "from azure.storage.blob import BlockBlobService\n",
    "bbs = BlockBlobService(\n",
    "    account_name='ataymanodev',\n",
    "    account_key='VxQFDLVWTGlr+iNnG6kL/Jl2Ni0PCzKcZ6RLAEJqYZJhD+YYALMDt/QyFZU7RdrfPYX8odWO2p89nAmUBB2TDA==')\n",
    "adls = None"
   ]
  },
  {
   "cell_type": "code",
   "execution_count": 77,
   "metadata": {},
   "outputs": [],
   "source": [
    "#Setup some local folder for files storage\n",
    "\n",
    "ws = Workspace(r'C:\\data\\workspace', bbs, adls)\n",
    "\n",
    "#Get app client\n",
    "app = ws.get_app('ataymano-ccb')\n",
    "\n",
    "#Get instance client - by id\n",
    "instance = app.get_instance('20200425190340')\n",
    "#or latest\n",
    "instance = app.get_instance()\n"
   ]
  },
  {
   "cell_type": "code",
   "execution_count": 78,
   "metadata": {},
   "outputs": [
    {
     "output_type": "execute_result",
     "data": {
      "text/plain": "            App           Model   First day    Last day Last day size  \\\n0  ataymano-ccb  20200425190340  2020-06-22  2020-06-23       0.63 GB   \n\n                    Last timestamp  \n0 2020-06-23 18:18:05.567000+00:00  ",
      "text/html": "<div>\n<style scoped>\n    .dataframe tbody tr th:only-of-type {\n        vertical-align: middle;\n    }\n\n    .dataframe tbody tr th {\n        vertical-align: top;\n    }\n\n    .dataframe thead th {\n        text-align: right;\n    }\n</style>\n<table border=\"1\" class=\"dataframe\">\n  <thead>\n    <tr style=\"text-align: right;\">\n      <th></th>\n      <th>App</th>\n      <th>Model</th>\n      <th>First day</th>\n      <th>Last day</th>\n      <th>Last day size</th>\n      <th>Last timestamp</th>\n    </tr>\n  </thead>\n  <tbody>\n    <tr>\n      <th>0</th>\n      <td>ataymano-ccb</td>\n      <td>20200425190340</td>\n      <td>2020-06-22</td>\n      <td>2020-06-23</td>\n      <td>0.63 GB</td>\n      <td>2020-06-23 18:18:05.567000+00:00</td>\n    </tr>\n  </tbody>\n</table>\n</div>"
     },
     "metadata": {},
     "execution_count": 78
    }
   ],
   "source": [
    "instance.overview()"
   ]
  },
  {
   "cell_type": "code",
   "execution_count": 79,
   "metadata": {},
   "outputs": [],
   "source": [
    "#get latest day\n",
    "latest_day = instance.get_day()\n",
    "\n",
    "#get given day\n",
    "june23 = instance.get_day(datetime.date(2020,6,23))"
   ]
  },
  {
   "cell_type": "code",
   "execution_count": 80,
   "metadata": {},
   "outputs": [
    {
     "output_type": "execute_result",
     "data": {
      "text/plain": "            App           Model         Day     Size  \\\n0  ataymano-ccb  20200425190340  2020-06-23  0.63 GB   \n\n                     LastTimestamp  \n0 2020-06-23 18:18:05.567000+00:00  ",
      "text/html": "<div>\n<style scoped>\n    .dataframe tbody tr th:only-of-type {\n        vertical-align: middle;\n    }\n\n    .dataframe tbody tr th {\n        vertical-align: top;\n    }\n\n    .dataframe thead th {\n        text-align: right;\n    }\n</style>\n<table border=\"1\" class=\"dataframe\">\n  <thead>\n    <tr style=\"text-align: right;\">\n      <th></th>\n      <th>App</th>\n      <th>Model</th>\n      <th>Day</th>\n      <th>Size</th>\n      <th>LastTimestamp</th>\n    </tr>\n  </thead>\n  <tbody>\n    <tr>\n      <th>0</th>\n      <td>ataymano-ccb</td>\n      <td>20200425190340</td>\n      <td>2020-06-23</td>\n      <td>0.63 GB</td>\n      <td>2020-06-23 18:18:05.567000+00:00</td>\n    </tr>\n  </tbody>\n</table>\n</div>"
     },
     "metadata": {},
     "execution_count": 80
    }
   ],
   "source": [
    "#get some metainformation\n",
    "june23.overview()"
   ]
  },
  {
   "cell_type": "code",
   "execution_count": 85,
   "metadata": {
    "tags": []
   },
   "outputs": [
    {
     "output_type": "stream",
     "name": "stdout",
     "text": "Progress: [##################################################] 100.0%"
    }
   ],
   "source": [
    "segment = june23.get_segment(3, 64 * 1024 **2)"
   ]
  },
  {
   "cell_type": "code",
   "execution_count": 86,
   "metadata": {},
   "outputs": [
    {
     "output_type": "execute_result",
     "data": {
      "text/plain": "'{\"Timestamp\":\"2020-06-23T00:00:00.1290000Z\",\"Version\":\"1\",\"c\":{ \"GUser\":{\"id\":\"rnc\",\"major\":\"engineering\",\"hobby\":\"hiking\",\"favorite_character\":\"spock\"}, \"_multi\": [ { \"TAction\":{\"topic\":\"SkiConditions-VT\"} }, { \"TAction\":{\"topic\":\"HerbGarden\"} }, { \"TAction\":{\"topic\":\"BeyBlades\"} }, { \"TAction\":{\"topic\":\"NYCLiving\"} }, { \"TAction\":{\"topic\":\"MachineLearning\"} } ], \"_slots\": [ { \"_id\":\"d8382bb1-43fe-4afd-a69c-b7af0fc73131\"}, { \"_id\":\"5d8e4686-d73b-4f7b-9036-e857f11d3f6b\"}, { \"_id\":\"462c2e20-7b94-4086-bd22-61d8729f3829\"}]  },\"_outcomes\":[{\"_label_cost\":0.0,\"_id\":\"d8382bb1-43fe-4afd-a69c-b7af0fc73131\",\"_a\":[4,1,0,2,3],\"_p\":[0.8399999,0.0399999954,0.0399999954,0.0399999954,0.0399999954],\"_o\":[{\"v\":0.0,\"EventId\":\"d8382bb1-43fe-4afd-a69c-b7af0fc73131\",\"ActionTaken\":false}]},{\"_label_cost\":0.0,\"_id\":\"5d8e4686-d73b-4f7b-9036-e857f11d3f6b\",\"_a\":[1,0,2,3],\"_p\":[0.85,0.05,0.05,0.05],\"_o\":[{\"v\":0.0,\"EventId\":\"5d8e4686-d73b-4f7b-9036-e857f11d3f6b\",\"ActionTaken\":false}]},{\"_label_cost\":0.0,\"_id\":\"462c2e20-7b94-4086-bd22-61d8729f3829\",\"_a\":[0,2,3],\"_p\":[0.8666667,0.06666667,0.06666667],\"_o\":[{\"v\":0.0,\"EventId\":\"462c2e20-7b94-4086-bd22-61d8729f3829\",\"ActionTaken\":false}]}],\"VWState\":{\"m\":\"52a87667-8286-4035-8b7a-9cab77444639/449055e4-1091-4d17-b604-c1573aafa613\"}}\\n'"
     },
     "metadata": {},
     "execution_count": 86
    }
   ],
   "source": [
    "# read all lines (aligned by \\n)\n",
    "next(segment.read())"
   ]
  },
  {
   "cell_type": "code",
   "execution_count": 87,
   "metadata": {},
   "outputs": [
    {
     "output_type": "execute_result",
     "data": {
      "text/plain": "                                                               Session  \\\nTimestamp                                                                \n2020-06-23 00:00:00.129000+00:00  e083c641-7d49-4092-91b7-18d9d68859e6   \n2020-06-23 00:00:00.129000+00:00  e083c641-7d49-4092-91b7-18d9d68859e6   \n2020-06-23 00:00:00.129000+00:00  e083c641-7d49-4092-91b7-18d9d68859e6   \n2020-06-23 00:00:00.129000+00:00  86c6270d-9faf-4e78-af36-def04287e918   \n2020-06-23 00:00:00.129000+00:00  86c6270d-9faf-4e78-af36-def04287e918   \n...                                                                ...   \n2020-06-23 00:18:51.162000+00:00  a35eaee4-7e7a-4cc1-ab28-6688e333b69d   \n2020-06-23 00:18:51.162000+00:00  a35eaee4-7e7a-4cc1-ab28-6688e333b69d   \n2020-06-23 00:18:51.162000+00:00  2cf5fd34-de7f-4f75-b008-eefc89c3c275   \n2020-06-23 00:18:51.162000+00:00  2cf5fd34-de7f-4f75-b008-eefc89c3c275   \n2020-06-23 00:18:51.162000+00:00  2cf5fd34-de7f-4f75-b008-eefc89c3c275   \n\n                                  NumActions  NumSlots  \\\nTimestamp                                                \n2020-06-23 00:00:00.129000+00:00           5         3   \n2020-06-23 00:00:00.129000+00:00           5         3   \n2020-06-23 00:00:00.129000+00:00           5         3   \n2020-06-23 00:00:00.129000+00:00           5         3   \n2020-06-23 00:00:00.129000+00:00           5         3   \n...                                      ...       ...   \n2020-06-23 00:18:51.162000+00:00           5         3   \n2020-06-23 00:18:51.162000+00:00           5         3   \n2020-06-23 00:18:51.162000+00:00           5         3   \n2020-06-23 00:18:51.162000+00:00           5         3   \n2020-06-23 00:18:51.162000+00:00           5         3   \n\n                                                                            VWState  \\\nTimestamp                                                                             \n2020-06-23 00:00:00.129000+00:00  52a87667-8286-4035-8b7a-9cab77444639/449055e4-...   \n2020-06-23 00:00:00.129000+00:00  52a87667-8286-4035-8b7a-9cab77444639/449055e4-...   \n2020-06-23 00:00:00.129000+00:00  52a87667-8286-4035-8b7a-9cab77444639/449055e4-...   \n2020-06-23 00:00:00.129000+00:00  52a87667-8286-4035-8b7a-9cab77444639/449055e4-...   \n2020-06-23 00:00:00.129000+00:00  52a87667-8286-4035-8b7a-9cab77444639/449055e4-...   \n...                                                                             ...   \n2020-06-23 00:18:51.162000+00:00  cada9471-5c5d-4fd7-9096-dc5f9a5239de/1d364f3d-...   \n2020-06-23 00:18:51.162000+00:00  cada9471-5c5d-4fd7-9096-dc5f9a5239de/1d364f3d-...   \n2020-06-23 00:18:51.162000+00:00  cada9471-5c5d-4fd7-9096-dc5f9a5239de/1d364f3d-...   \n2020-06-23 00:18:51.162000+00:00  cada9471-5c5d-4fd7-9096-dc5f9a5239de/1d364f3d-...   \n2020-06-23 00:18:51.162000+00:00  cada9471-5c5d-4fd7-9096-dc5f9a5239de/1d364f3d-...   \n\n                                  StringLen  SlotIdx  Cost  \\\nTimestamp                                                    \n2020-06-23 00:00:00.129000+00:00       1269        0   0.0   \n2020-06-23 00:00:00.129000+00:00       1269        1   0.0   \n2020-06-23 00:00:00.129000+00:00       1269        2   0.0   \n2020-06-23 00:00:00.129000+00:00       1269        0   0.0   \n2020-06-23 00:00:00.129000+00:00       1269        1   0.0   \n...                                     ...      ...   ...   \n2020-06-23 00:18:51.162000+00:00       1264        1   0.0   \n2020-06-23 00:18:51.162000+00:00       1264        2   0.0   \n2020-06-23 00:18:51.162000+00:00       1265        0   0.0   \n2020-06-23 00:18:51.162000+00:00       1265        1  -1.0   \n2020-06-23 00:18:51.162000+00:00       1265        2   0.0   \n\n                                                               EventId  \\\nTimestamp                                                                \n2020-06-23 00:00:00.129000+00:00  d8382bb1-43fe-4afd-a69c-b7af0fc73131   \n2020-06-23 00:00:00.129000+00:00  5d8e4686-d73b-4f7b-9036-e857f11d3f6b   \n2020-06-23 00:00:00.129000+00:00  462c2e20-7b94-4086-bd22-61d8729f3829   \n2020-06-23 00:00:00.129000+00:00  3f584cb3-fa74-4c58-bd51-11e392e016b8   \n2020-06-23 00:00:00.129000+00:00  0cd0aced-4152-46d9-ac8e-340d8555cccb   \n...                                                                ...   \n2020-06-23 00:18:51.162000+00:00  9debe0f8-d86f-426b-aedb-c96b8772dbd2   \n2020-06-23 00:18:51.162000+00:00  f2767042-ed90-4985-ad58-ce8b72e12ee0   \n2020-06-23 00:18:51.162000+00:00  6583a7f1-844c-4906-bc2b-7424507d08a5   \n2020-06-23 00:18:51.162000+00:00  6f1a0a03-a6ba-4e63-bf6c-cf06fffedbea   \n2020-06-23 00:18:51.162000+00:00  4fab2427-f5a5-4e2d-8b0e-c1904698ec8e   \n\n                                  ActionsPerSlot  Chosen      Prob  \\\nTimestamp                                                            \n2020-06-23 00:00:00.129000+00:00               5       4  0.840000   \n2020-06-23 00:00:00.129000+00:00               4       1  0.850000   \n2020-06-23 00:00:00.129000+00:00               3       0  0.866667   \n2020-06-23 00:00:00.129000+00:00               5       4  0.840000   \n2020-06-23 00:00:00.129000+00:00               4       1  0.850000   \n...                                          ...     ...       ...   \n2020-06-23 00:18:51.162000+00:00               4       1  0.850000   \n2020-06-23 00:18:51.162000+00:00               3       0  0.866667   \n2020-06-23 00:18:51.162000+00:00               5       4  0.840000   \n2020-06-23 00:18:51.162000+00:00               4       1  0.850000   \n2020-06-23 00:18:51.162000+00:00               3       0  0.866667   \n\n                                  ChosenActionLen  \nTimestamp                                          \n2020-06-23 00:00:00.129000+00:00               41  \n2020-06-23 00:00:00.129000+00:00               36  \n2020-06-23 00:00:00.129000+00:00               42  \n2020-06-23 00:00:00.129000+00:00               41  \n2020-06-23 00:00:00.129000+00:00               36  \n...                                           ...  \n2020-06-23 00:18:51.162000+00:00               36  \n2020-06-23 00:18:51.162000+00:00               42  \n2020-06-23 00:18:51.162000+00:00               41  \n2020-06-23 00:18:51.162000+00:00               36  \n2020-06-23 00:18:51.162000+00:00               42  \n\n[158898 rows x 12 columns]",
      "text/html": "<div>\n<style scoped>\n    .dataframe tbody tr th:only-of-type {\n        vertical-align: middle;\n    }\n\n    .dataframe tbody tr th {\n        vertical-align: top;\n    }\n\n    .dataframe thead th {\n        text-align: right;\n    }\n</style>\n<table border=\"1\" class=\"dataframe\">\n  <thead>\n    <tr style=\"text-align: right;\">\n      <th></th>\n      <th>Session</th>\n      <th>NumActions</th>\n      <th>NumSlots</th>\n      <th>VWState</th>\n      <th>StringLen</th>\n      <th>SlotIdx</th>\n      <th>Cost</th>\n      <th>EventId</th>\n      <th>ActionsPerSlot</th>\n      <th>Chosen</th>\n      <th>Prob</th>\n      <th>ChosenActionLen</th>\n    </tr>\n    <tr>\n      <th>Timestamp</th>\n      <th></th>\n      <th></th>\n      <th></th>\n      <th></th>\n      <th></th>\n      <th></th>\n      <th></th>\n      <th></th>\n      <th></th>\n      <th></th>\n      <th></th>\n      <th></th>\n    </tr>\n  </thead>\n  <tbody>\n    <tr>\n      <th>2020-06-23 00:00:00.129000+00:00</th>\n      <td>e083c641-7d49-4092-91b7-18d9d68859e6</td>\n      <td>5</td>\n      <td>3</td>\n      <td>52a87667-8286-4035-8b7a-9cab77444639/449055e4-...</td>\n      <td>1269</td>\n      <td>0</td>\n      <td>0.0</td>\n      <td>d8382bb1-43fe-4afd-a69c-b7af0fc73131</td>\n      <td>5</td>\n      <td>4</td>\n      <td>0.840000</td>\n      <td>41</td>\n    </tr>\n    <tr>\n      <th>2020-06-23 00:00:00.129000+00:00</th>\n      <td>e083c641-7d49-4092-91b7-18d9d68859e6</td>\n      <td>5</td>\n      <td>3</td>\n      <td>52a87667-8286-4035-8b7a-9cab77444639/449055e4-...</td>\n      <td>1269</td>\n      <td>1</td>\n      <td>0.0</td>\n      <td>5d8e4686-d73b-4f7b-9036-e857f11d3f6b</td>\n      <td>4</td>\n      <td>1</td>\n      <td>0.850000</td>\n      <td>36</td>\n    </tr>\n    <tr>\n      <th>2020-06-23 00:00:00.129000+00:00</th>\n      <td>e083c641-7d49-4092-91b7-18d9d68859e6</td>\n      <td>5</td>\n      <td>3</td>\n      <td>52a87667-8286-4035-8b7a-9cab77444639/449055e4-...</td>\n      <td>1269</td>\n      <td>2</td>\n      <td>0.0</td>\n      <td>462c2e20-7b94-4086-bd22-61d8729f3829</td>\n      <td>3</td>\n      <td>0</td>\n      <td>0.866667</td>\n      <td>42</td>\n    </tr>\n    <tr>\n      <th>2020-06-23 00:00:00.129000+00:00</th>\n      <td>86c6270d-9faf-4e78-af36-def04287e918</td>\n      <td>5</td>\n      <td>3</td>\n      <td>52a87667-8286-4035-8b7a-9cab77444639/449055e4-...</td>\n      <td>1269</td>\n      <td>0</td>\n      <td>0.0</td>\n      <td>3f584cb3-fa74-4c58-bd51-11e392e016b8</td>\n      <td>5</td>\n      <td>4</td>\n      <td>0.840000</td>\n      <td>41</td>\n    </tr>\n    <tr>\n      <th>2020-06-23 00:00:00.129000+00:00</th>\n      <td>86c6270d-9faf-4e78-af36-def04287e918</td>\n      <td>5</td>\n      <td>3</td>\n      <td>52a87667-8286-4035-8b7a-9cab77444639/449055e4-...</td>\n      <td>1269</td>\n      <td>1</td>\n      <td>0.0</td>\n      <td>0cd0aced-4152-46d9-ac8e-340d8555cccb</td>\n      <td>4</td>\n      <td>1</td>\n      <td>0.850000</td>\n      <td>36</td>\n    </tr>\n    <tr>\n      <th>...</th>\n      <td>...</td>\n      <td>...</td>\n      <td>...</td>\n      <td>...</td>\n      <td>...</td>\n      <td>...</td>\n      <td>...</td>\n      <td>...</td>\n      <td>...</td>\n      <td>...</td>\n      <td>...</td>\n      <td>...</td>\n    </tr>\n    <tr>\n      <th>2020-06-23 00:18:51.162000+00:00</th>\n      <td>a35eaee4-7e7a-4cc1-ab28-6688e333b69d</td>\n      <td>5</td>\n      <td>3</td>\n      <td>cada9471-5c5d-4fd7-9096-dc5f9a5239de/1d364f3d-...</td>\n      <td>1264</td>\n      <td>1</td>\n      <td>0.0</td>\n      <td>9debe0f8-d86f-426b-aedb-c96b8772dbd2</td>\n      <td>4</td>\n      <td>1</td>\n      <td>0.850000</td>\n      <td>36</td>\n    </tr>\n    <tr>\n      <th>2020-06-23 00:18:51.162000+00:00</th>\n      <td>a35eaee4-7e7a-4cc1-ab28-6688e333b69d</td>\n      <td>5</td>\n      <td>3</td>\n      <td>cada9471-5c5d-4fd7-9096-dc5f9a5239de/1d364f3d-...</td>\n      <td>1264</td>\n      <td>2</td>\n      <td>0.0</td>\n      <td>f2767042-ed90-4985-ad58-ce8b72e12ee0</td>\n      <td>3</td>\n      <td>0</td>\n      <td>0.866667</td>\n      <td>42</td>\n    </tr>\n    <tr>\n      <th>2020-06-23 00:18:51.162000+00:00</th>\n      <td>2cf5fd34-de7f-4f75-b008-eefc89c3c275</td>\n      <td>5</td>\n      <td>3</td>\n      <td>cada9471-5c5d-4fd7-9096-dc5f9a5239de/1d364f3d-...</td>\n      <td>1265</td>\n      <td>0</td>\n      <td>0.0</td>\n      <td>6583a7f1-844c-4906-bc2b-7424507d08a5</td>\n      <td>5</td>\n      <td>4</td>\n      <td>0.840000</td>\n      <td>41</td>\n    </tr>\n    <tr>\n      <th>2020-06-23 00:18:51.162000+00:00</th>\n      <td>2cf5fd34-de7f-4f75-b008-eefc89c3c275</td>\n      <td>5</td>\n      <td>3</td>\n      <td>cada9471-5c5d-4fd7-9096-dc5f9a5239de/1d364f3d-...</td>\n      <td>1265</td>\n      <td>1</td>\n      <td>-1.0</td>\n      <td>6f1a0a03-a6ba-4e63-bf6c-cf06fffedbea</td>\n      <td>4</td>\n      <td>1</td>\n      <td>0.850000</td>\n      <td>36</td>\n    </tr>\n    <tr>\n      <th>2020-06-23 00:18:51.162000+00:00</th>\n      <td>2cf5fd34-de7f-4f75-b008-eefc89c3c275</td>\n      <td>5</td>\n      <td>3</td>\n      <td>cada9471-5c5d-4fd7-9096-dc5f9a5239de/1d364f3d-...</td>\n      <td>1265</td>\n      <td>2</td>\n      <td>0.0</td>\n      <td>4fab2427-f5a5-4e2d-8b0e-c1904698ec8e</td>\n      <td>3</td>\n      <td>0</td>\n      <td>0.866667</td>\n      <td>42</td>\n    </tr>\n  </tbody>\n</table>\n<p>158898 rows × 12 columns</p>\n</div>"
     },
     "metadata": {},
     "execution_count": 87
    }
   ],
   "source": [
    "#all ccb events stats:\n",
    "DsJson.ccb_events(segment.read())"
   ]
  },
  {
   "cell_type": "code",
   "execution_count": 91,
   "metadata": {
    "tags": []
   },
   "outputs": [],
   "source": [
    "#lookup offset for 17:25 AM and download corresponding segment\n",
    "segment1725 = today.get_segment(june23.lookup(17, 25), 8 * 1024 **2)"
   ]
  },
  {
   "cell_type": "code",
   "execution_count": 92,
   "metadata": {},
   "outputs": [
    {
     "output_type": "execute_result",
     "data": {
      "text/plain": "                                                               Session  \\\nTimestamp                                                                \n2020-06-23 17:22:18.042000+00:00  59ebd7a8-eff4-42e1-828e-708176bad035   \n2020-06-23 17:22:18.042000+00:00  59ebd7a8-eff4-42e1-828e-708176bad035   \n2020-06-23 17:22:18.042000+00:00  59ebd7a8-eff4-42e1-828e-708176bad035   \n2020-06-23 17:22:18.042000+00:00  6bc86316-5eeb-4c21-a762-5e3950213c9d   \n2020-06-23 17:22:18.042000+00:00  6bc86316-5eeb-4c21-a762-5e3950213c9d   \n...                                                                ...   \n2020-06-23 17:26:39.241000+00:00  5641a93f-8be8-451a-a90d-06c1b59eb402   \n2020-06-23 17:26:39.241000+00:00  5641a93f-8be8-451a-a90d-06c1b59eb402   \n2020-06-23 17:26:39.241000+00:00  060f0e01-72eb-4114-8e1c-edb196b82958   \n2020-06-23 17:26:39.241000+00:00  060f0e01-72eb-4114-8e1c-edb196b82958   \n2020-06-23 17:26:39.241000+00:00  060f0e01-72eb-4114-8e1c-edb196b82958   \n\n                                  NumActions  NumSlots  \\\nTimestamp                                                \n2020-06-23 17:22:18.042000+00:00           5         3   \n2020-06-23 17:22:18.042000+00:00           5         3   \n2020-06-23 17:22:18.042000+00:00           5         3   \n2020-06-23 17:22:18.042000+00:00           5         3   \n2020-06-23 17:22:18.042000+00:00           5         3   \n...                                      ...       ...   \n2020-06-23 17:26:39.241000+00:00           5         3   \n2020-06-23 17:26:39.241000+00:00           5         3   \n2020-06-23 17:26:39.241000+00:00           5         3   \n2020-06-23 17:26:39.241000+00:00           5         3   \n2020-06-23 17:26:39.241000+00:00           5         3   \n\n                                                                            VWState  \\\nTimestamp                                                                             \n2020-06-23 17:22:18.042000+00:00  dc150aa2-3fae-46e9-b352-c176c3970cfc/3b5ac02a-...   \n2020-06-23 17:22:18.042000+00:00  dc150aa2-3fae-46e9-b352-c176c3970cfc/3b5ac02a-...   \n2020-06-23 17:22:18.042000+00:00  dc150aa2-3fae-46e9-b352-c176c3970cfc/3b5ac02a-...   \n2020-06-23 17:22:18.042000+00:00  dc150aa2-3fae-46e9-b352-c176c3970cfc/3b5ac02a-...   \n2020-06-23 17:22:18.042000+00:00  dc150aa2-3fae-46e9-b352-c176c3970cfc/3b5ac02a-...   \n...                                                                             ...   \n2020-06-23 17:26:39.241000+00:00  715dfac2-785c-4ad0-b3c2-7d383144d612/79534b34-...   \n2020-06-23 17:26:39.241000+00:00  715dfac2-785c-4ad0-b3c2-7d383144d612/79534b34-...   \n2020-06-23 17:26:39.241000+00:00  715dfac2-785c-4ad0-b3c2-7d383144d612/79534b34-...   \n2020-06-23 17:26:39.241000+00:00  715dfac2-785c-4ad0-b3c2-7d383144d612/79534b34-...   \n2020-06-23 17:26:39.241000+00:00  715dfac2-785c-4ad0-b3c2-7d383144d612/79534b34-...   \n\n                                  StringLen  SlotIdx  Cost  \\\nTimestamp                                                    \n2020-06-23 17:22:18.042000+00:00       1269        0   0.0   \n2020-06-23 17:22:18.042000+00:00       1269        1   0.0   \n2020-06-23 17:22:18.042000+00:00       1269        2   0.0   \n2020-06-23 17:22:18.042000+00:00       1269        0   0.0   \n2020-06-23 17:22:18.042000+00:00       1269        1   0.0   \n...                                     ...      ...   ...   \n2020-06-23 17:26:39.241000+00:00       1270        1   0.0   \n2020-06-23 17:26:39.241000+00:00       1270        2   0.0   \n2020-06-23 17:26:39.241000+00:00       1269        0   0.0   \n2020-06-23 17:26:39.241000+00:00       1269        1   0.0   \n2020-06-23 17:26:39.241000+00:00       1269        2   0.0   \n\n                                                               EventId  \\\nTimestamp                                                                \n2020-06-23 17:22:18.042000+00:00  11dafd08-880d-422d-b78e-2a4e9c6635c8   \n2020-06-23 17:22:18.042000+00:00  16c8e5fb-bce0-454a-83be-d3193eeaa8e2   \n2020-06-23 17:22:18.042000+00:00  6aa21275-5803-47d5-b8fb-46af07808f18   \n2020-06-23 17:22:18.042000+00:00  49e3280f-fcf3-4a44-bff4-e017f8c62160   \n2020-06-23 17:22:18.042000+00:00  5ee2d148-2f44-4698-83a8-d964ec8b3581   \n...                                                                ...   \n2020-06-23 17:26:39.241000+00:00  2f50506a-6a0a-4525-a8b7-23ade43d7eab   \n2020-06-23 17:26:39.241000+00:00  f7388c54-0d04-4138-bac8-71b2b647e984   \n2020-06-23 17:26:39.241000+00:00  1c8448c1-bc5a-405f-b19e-803c74366d09   \n2020-06-23 17:26:39.241000+00:00  7673a663-6ac3-4caa-9a57-56e815f5cce6   \n2020-06-23 17:26:39.241000+00:00  db1b9268-c73d-4fd3-af29-23a9495a9f5f   \n\n                                  ActionsPerSlot  Chosen      Prob  \\\nTimestamp                                                            \n2020-06-23 17:22:18.042000+00:00               5       4  0.840000   \n2020-06-23 17:22:18.042000+00:00               4       1  0.850000   \n2020-06-23 17:22:18.042000+00:00               3       0  0.866667   \n2020-06-23 17:22:18.042000+00:00               5       4  0.840000   \n2020-06-23 17:22:18.042000+00:00               4       1  0.850000   \n...                                          ...     ...       ...   \n2020-06-23 17:26:39.241000+00:00               4       1  0.850000   \n2020-06-23 17:26:39.241000+00:00               3       0  0.866667   \n2020-06-23 17:26:39.241000+00:00               5       4  0.840000   \n2020-06-23 17:26:39.241000+00:00               4       1  0.850000   \n2020-06-23 17:26:39.241000+00:00               3       0  0.866667   \n\n                                  ChosenActionLen  \nTimestamp                                          \n2020-06-23 17:22:18.042000+00:00               41  \n2020-06-23 17:22:18.042000+00:00               36  \n2020-06-23 17:22:18.042000+00:00               42  \n2020-06-23 17:22:18.042000+00:00               41  \n2020-06-23 17:22:18.042000+00:00               36  \n...                                           ...  \n2020-06-23 17:26:39.241000+00:00               36  \n2020-06-23 17:26:39.241000+00:00               42  \n2020-06-23 17:26:39.241000+00:00               41  \n2020-06-23 17:26:39.241000+00:00               36  \n2020-06-23 17:26:39.241000+00:00               42  \n\n[19857 rows x 12 columns]",
      "text/html": "<div>\n<style scoped>\n    .dataframe tbody tr th:only-of-type {\n        vertical-align: middle;\n    }\n\n    .dataframe tbody tr th {\n        vertical-align: top;\n    }\n\n    .dataframe thead th {\n        text-align: right;\n    }\n</style>\n<table border=\"1\" class=\"dataframe\">\n  <thead>\n    <tr style=\"text-align: right;\">\n      <th></th>\n      <th>Session</th>\n      <th>NumActions</th>\n      <th>NumSlots</th>\n      <th>VWState</th>\n      <th>StringLen</th>\n      <th>SlotIdx</th>\n      <th>Cost</th>\n      <th>EventId</th>\n      <th>ActionsPerSlot</th>\n      <th>Chosen</th>\n      <th>Prob</th>\n      <th>ChosenActionLen</th>\n    </tr>\n    <tr>\n      <th>Timestamp</th>\n      <th></th>\n      <th></th>\n      <th></th>\n      <th></th>\n      <th></th>\n      <th></th>\n      <th></th>\n      <th></th>\n      <th></th>\n      <th></th>\n      <th></th>\n      <th></th>\n    </tr>\n  </thead>\n  <tbody>\n    <tr>\n      <th>2020-06-23 17:22:18.042000+00:00</th>\n      <td>59ebd7a8-eff4-42e1-828e-708176bad035</td>\n      <td>5</td>\n      <td>3</td>\n      <td>dc150aa2-3fae-46e9-b352-c176c3970cfc/3b5ac02a-...</td>\n      <td>1269</td>\n      <td>0</td>\n      <td>0.0</td>\n      <td>11dafd08-880d-422d-b78e-2a4e9c6635c8</td>\n      <td>5</td>\n      <td>4</td>\n      <td>0.840000</td>\n      <td>41</td>\n    </tr>\n    <tr>\n      <th>2020-06-23 17:22:18.042000+00:00</th>\n      <td>59ebd7a8-eff4-42e1-828e-708176bad035</td>\n      <td>5</td>\n      <td>3</td>\n      <td>dc150aa2-3fae-46e9-b352-c176c3970cfc/3b5ac02a-...</td>\n      <td>1269</td>\n      <td>1</td>\n      <td>0.0</td>\n      <td>16c8e5fb-bce0-454a-83be-d3193eeaa8e2</td>\n      <td>4</td>\n      <td>1</td>\n      <td>0.850000</td>\n      <td>36</td>\n    </tr>\n    <tr>\n      <th>2020-06-23 17:22:18.042000+00:00</th>\n      <td>59ebd7a8-eff4-42e1-828e-708176bad035</td>\n      <td>5</td>\n      <td>3</td>\n      <td>dc150aa2-3fae-46e9-b352-c176c3970cfc/3b5ac02a-...</td>\n      <td>1269</td>\n      <td>2</td>\n      <td>0.0</td>\n      <td>6aa21275-5803-47d5-b8fb-46af07808f18</td>\n      <td>3</td>\n      <td>0</td>\n      <td>0.866667</td>\n      <td>42</td>\n    </tr>\n    <tr>\n      <th>2020-06-23 17:22:18.042000+00:00</th>\n      <td>6bc86316-5eeb-4c21-a762-5e3950213c9d</td>\n      <td>5</td>\n      <td>3</td>\n      <td>dc150aa2-3fae-46e9-b352-c176c3970cfc/3b5ac02a-...</td>\n      <td>1269</td>\n      <td>0</td>\n      <td>0.0</td>\n      <td>49e3280f-fcf3-4a44-bff4-e017f8c62160</td>\n      <td>5</td>\n      <td>4</td>\n      <td>0.840000</td>\n      <td>41</td>\n    </tr>\n    <tr>\n      <th>2020-06-23 17:22:18.042000+00:00</th>\n      <td>6bc86316-5eeb-4c21-a762-5e3950213c9d</td>\n      <td>5</td>\n      <td>3</td>\n      <td>dc150aa2-3fae-46e9-b352-c176c3970cfc/3b5ac02a-...</td>\n      <td>1269</td>\n      <td>1</td>\n      <td>0.0</td>\n      <td>5ee2d148-2f44-4698-83a8-d964ec8b3581</td>\n      <td>4</td>\n      <td>1</td>\n      <td>0.850000</td>\n      <td>36</td>\n    </tr>\n    <tr>\n      <th>...</th>\n      <td>...</td>\n      <td>...</td>\n      <td>...</td>\n      <td>...</td>\n      <td>...</td>\n      <td>...</td>\n      <td>...</td>\n      <td>...</td>\n      <td>...</td>\n      <td>...</td>\n      <td>...</td>\n      <td>...</td>\n    </tr>\n    <tr>\n      <th>2020-06-23 17:26:39.241000+00:00</th>\n      <td>5641a93f-8be8-451a-a90d-06c1b59eb402</td>\n      <td>5</td>\n      <td>3</td>\n      <td>715dfac2-785c-4ad0-b3c2-7d383144d612/79534b34-...</td>\n      <td>1270</td>\n      <td>1</td>\n      <td>0.0</td>\n      <td>2f50506a-6a0a-4525-a8b7-23ade43d7eab</td>\n      <td>4</td>\n      <td>1</td>\n      <td>0.850000</td>\n      <td>36</td>\n    </tr>\n    <tr>\n      <th>2020-06-23 17:26:39.241000+00:00</th>\n      <td>5641a93f-8be8-451a-a90d-06c1b59eb402</td>\n      <td>5</td>\n      <td>3</td>\n      <td>715dfac2-785c-4ad0-b3c2-7d383144d612/79534b34-...</td>\n      <td>1270</td>\n      <td>2</td>\n      <td>0.0</td>\n      <td>f7388c54-0d04-4138-bac8-71b2b647e984</td>\n      <td>3</td>\n      <td>0</td>\n      <td>0.866667</td>\n      <td>42</td>\n    </tr>\n    <tr>\n      <th>2020-06-23 17:26:39.241000+00:00</th>\n      <td>060f0e01-72eb-4114-8e1c-edb196b82958</td>\n      <td>5</td>\n      <td>3</td>\n      <td>715dfac2-785c-4ad0-b3c2-7d383144d612/79534b34-...</td>\n      <td>1269</td>\n      <td>0</td>\n      <td>0.0</td>\n      <td>1c8448c1-bc5a-405f-b19e-803c74366d09</td>\n      <td>5</td>\n      <td>4</td>\n      <td>0.840000</td>\n      <td>41</td>\n    </tr>\n    <tr>\n      <th>2020-06-23 17:26:39.241000+00:00</th>\n      <td>060f0e01-72eb-4114-8e1c-edb196b82958</td>\n      <td>5</td>\n      <td>3</td>\n      <td>715dfac2-785c-4ad0-b3c2-7d383144d612/79534b34-...</td>\n      <td>1269</td>\n      <td>1</td>\n      <td>0.0</td>\n      <td>7673a663-6ac3-4caa-9a57-56e815f5cce6</td>\n      <td>4</td>\n      <td>1</td>\n      <td>0.850000</td>\n      <td>36</td>\n    </tr>\n    <tr>\n      <th>2020-06-23 17:26:39.241000+00:00</th>\n      <td>060f0e01-72eb-4114-8e1c-edb196b82958</td>\n      <td>5</td>\n      <td>3</td>\n      <td>715dfac2-785c-4ad0-b3c2-7d383144d612/79534b34-...</td>\n      <td>1269</td>\n      <td>2</td>\n      <td>0.0</td>\n      <td>db1b9268-c73d-4fd3-af29-23a9495a9f5f</td>\n      <td>3</td>\n      <td>0</td>\n      <td>0.866667</td>\n      <td>42</td>\n    </tr>\n  </tbody>\n</table>\n<p>19857 rows × 12 columns</p>\n</div>"
     },
     "metadata": {},
     "execution_count": 92
    }
   ],
   "source": [
    "#now you can read it as above with .read() \n",
    "DsJson.ccb_events(segment1725.read())"
   ]
  },
  {
   "cell_type": "code",
   "execution_count": 93,
   "metadata": {},
   "outputs": [
    {
     "output_type": "execute_result",
     "data": {
      "text/plain": "                                                               Session  \\\nTimestamp                                                                \n2020-06-23 17:22:18.042000+00:00  11dafd08-880d-422d-b78e-2a4e9c6635c8   \n2020-06-23 17:22:18.042000+00:00  11dafd08-880d-422d-b78e-2a4e9c6635c8   \n2020-06-23 17:22:18.042000+00:00  11dafd08-880d-422d-b78e-2a4e9c6635c8   \n2020-06-23 17:22:18.042000+00:00  11dafd08-880d-422d-b78e-2a4e9c6635c8   \n2020-06-23 17:22:18.042000+00:00  11dafd08-880d-422d-b78e-2a4e9c6635c8   \n...                                                                ...   \n2020-06-23 17:26:39.241000+00:00  1c8448c1-bc5a-405f-b19e-803c74366d09   \n2020-06-23 17:26:39.241000+00:00  1c8448c1-bc5a-405f-b19e-803c74366d09   \n2020-06-23 17:26:39.241000+00:00  1c8448c1-bc5a-405f-b19e-803c74366d09   \n2020-06-23 17:26:39.241000+00:00  1c8448c1-bc5a-405f-b19e-803c74366d09   \n2020-06-23 17:26:39.241000+00:00  1c8448c1-bc5a-405f-b19e-803c74366d09   \n\n                                                                      Action  \\\nTimestamp                                                                      \n2020-06-23 17:22:18.042000+00:00  {'TAction': {'topic': 'SkiConditions-VT'}}   \n2020-06-23 17:22:18.042000+00:00        {'TAction': {'topic': 'HerbGarden'}}   \n2020-06-23 17:22:18.042000+00:00         {'TAction': {'topic': 'BeyBlades'}}   \n2020-06-23 17:22:18.042000+00:00         {'TAction': {'topic': 'NYCLiving'}}   \n2020-06-23 17:22:18.042000+00:00   {'TAction': {'topic': 'MachineLearning'}}   \n...                                                                      ...   \n2020-06-23 17:26:39.241000+00:00  {'TAction': {'topic': 'SkiConditions-VT'}}   \n2020-06-23 17:26:39.241000+00:00        {'TAction': {'topic': 'HerbGarden'}}   \n2020-06-23 17:26:39.241000+00:00         {'TAction': {'topic': 'BeyBlades'}}   \n2020-06-23 17:26:39.241000+00:00         {'TAction': {'topic': 'NYCLiving'}}   \n2020-06-23 17:26:39.241000+00:00   {'TAction': {'topic': 'MachineLearning'}}   \n\n                                  SlotIdx  Cost  \nTimestamp                                        \n2020-06-23 17:22:18.042000+00:00        2   0.0  \n2020-06-23 17:22:18.042000+00:00        1   0.0  \n2020-06-23 17:22:18.042000+00:00       -1   0.0  \n2020-06-23 17:22:18.042000+00:00       -1   0.0  \n2020-06-23 17:22:18.042000+00:00        0   0.0  \n...                                   ...   ...  \n2020-06-23 17:26:39.241000+00:00        2   0.0  \n2020-06-23 17:26:39.241000+00:00        1   0.0  \n2020-06-23 17:26:39.241000+00:00       -1   0.0  \n2020-06-23 17:26:39.241000+00:00       -1   0.0  \n2020-06-23 17:26:39.241000+00:00        0   0.0  \n\n[33095 rows x 4 columns]",
      "text/html": "<div>\n<style scoped>\n    .dataframe tbody tr th:only-of-type {\n        vertical-align: middle;\n    }\n\n    .dataframe tbody tr th {\n        vertical-align: top;\n    }\n\n    .dataframe thead th {\n        text-align: right;\n    }\n</style>\n<table border=\"1\" class=\"dataframe\">\n  <thead>\n    <tr style=\"text-align: right;\">\n      <th></th>\n      <th>Session</th>\n      <th>Action</th>\n      <th>SlotIdx</th>\n      <th>Cost</th>\n    </tr>\n    <tr>\n      <th>Timestamp</th>\n      <th></th>\n      <th></th>\n      <th></th>\n      <th></th>\n    </tr>\n  </thead>\n  <tbody>\n    <tr>\n      <th>2020-06-23 17:22:18.042000+00:00</th>\n      <td>11dafd08-880d-422d-b78e-2a4e9c6635c8</td>\n      <td>{'TAction': {'topic': 'SkiConditions-VT'}}</td>\n      <td>2</td>\n      <td>0.0</td>\n    </tr>\n    <tr>\n      <th>2020-06-23 17:22:18.042000+00:00</th>\n      <td>11dafd08-880d-422d-b78e-2a4e9c6635c8</td>\n      <td>{'TAction': {'topic': 'HerbGarden'}}</td>\n      <td>1</td>\n      <td>0.0</td>\n    </tr>\n    <tr>\n      <th>2020-06-23 17:22:18.042000+00:00</th>\n      <td>11dafd08-880d-422d-b78e-2a4e9c6635c8</td>\n      <td>{'TAction': {'topic': 'BeyBlades'}}</td>\n      <td>-1</td>\n      <td>0.0</td>\n    </tr>\n    <tr>\n      <th>2020-06-23 17:22:18.042000+00:00</th>\n      <td>11dafd08-880d-422d-b78e-2a4e9c6635c8</td>\n      <td>{'TAction': {'topic': 'NYCLiving'}}</td>\n      <td>-1</td>\n      <td>0.0</td>\n    </tr>\n    <tr>\n      <th>2020-06-23 17:22:18.042000+00:00</th>\n      <td>11dafd08-880d-422d-b78e-2a4e9c6635c8</td>\n      <td>{'TAction': {'topic': 'MachineLearning'}}</td>\n      <td>0</td>\n      <td>0.0</td>\n    </tr>\n    <tr>\n      <th>...</th>\n      <td>...</td>\n      <td>...</td>\n      <td>...</td>\n      <td>...</td>\n    </tr>\n    <tr>\n      <th>2020-06-23 17:26:39.241000+00:00</th>\n      <td>1c8448c1-bc5a-405f-b19e-803c74366d09</td>\n      <td>{'TAction': {'topic': 'SkiConditions-VT'}}</td>\n      <td>2</td>\n      <td>0.0</td>\n    </tr>\n    <tr>\n      <th>2020-06-23 17:26:39.241000+00:00</th>\n      <td>1c8448c1-bc5a-405f-b19e-803c74366d09</td>\n      <td>{'TAction': {'topic': 'HerbGarden'}}</td>\n      <td>1</td>\n      <td>0.0</td>\n    </tr>\n    <tr>\n      <th>2020-06-23 17:26:39.241000+00:00</th>\n      <td>1c8448c1-bc5a-405f-b19e-803c74366d09</td>\n      <td>{'TAction': {'topic': 'BeyBlades'}}</td>\n      <td>-1</td>\n      <td>0.0</td>\n    </tr>\n    <tr>\n      <th>2020-06-23 17:26:39.241000+00:00</th>\n      <td>1c8448c1-bc5a-405f-b19e-803c74366d09</td>\n      <td>{'TAction': {'topic': 'NYCLiving'}}</td>\n      <td>-1</td>\n      <td>0.0</td>\n    </tr>\n    <tr>\n      <th>2020-06-23 17:26:39.241000+00:00</th>\n      <td>1c8448c1-bc5a-405f-b19e-803c74366d09</td>\n      <td>{'TAction': {'topic': 'MachineLearning'}}</td>\n      <td>0</td>\n      <td>0.0</td>\n    </tr>\n  </tbody>\n</table>\n<p>33095 rows × 4 columns</p>\n</div>"
     },
     "metadata": {},
     "execution_count": 93
    }
   ],
   "source": [
    "DsJson.ccb_actions(segment1725.read())"
   ]
  },
  {
   "cell_type": "code",
   "execution_count": 73,
   "metadata": {
    "tags": []
   },
   "outputs": [],
   "source": [
    "#sample data\n",
    "sample = june23.sample(size=128 * 1024 **2)"
   ]
  },
  {
   "cell_type": "code",
   "execution_count": 74,
   "metadata": {},
   "outputs": [],
   "source": [
    "#get action stats\n",
    "import itertools\n",
    "actions = DsJson.ccb_actions(itertools.chain.from_iterable([s.read() for s in sample]))"
   ]
  },
  {
   "cell_type": "code",
   "execution_count": 75,
   "metadata": {},
   "outputs": [
    {
     "output_type": "execute_result",
     "data": {
      "text/plain": "                                                               Session  \\\nTimestamp                                                                \n2020-06-23 00:00:00.129000+00:00  d8382bb1-43fe-4afd-a69c-b7af0fc73131   \n2020-06-23 00:00:00.129000+00:00  d8382bb1-43fe-4afd-a69c-b7af0fc73131   \n2020-06-23 00:00:00.129000+00:00  d8382bb1-43fe-4afd-a69c-b7af0fc73131   \n2020-06-23 00:00:00.129000+00:00  d8382bb1-43fe-4afd-a69c-b7af0fc73131   \n2020-06-23 00:00:00.129000+00:00  d8382bb1-43fe-4afd-a69c-b7af0fc73131   \n...                                                                ...   \n2020-06-23 18:20:07.562000+00:00  ff08da09-031d-4b42-8340-cc59f79ca274   \n2020-06-23 18:20:07.562000+00:00  ff08da09-031d-4b42-8340-cc59f79ca274   \n2020-06-23 18:20:07.562000+00:00  ff08da09-031d-4b42-8340-cc59f79ca274   \n2020-06-23 18:20:07.562000+00:00  ff08da09-031d-4b42-8340-cc59f79ca274   \n2020-06-23 18:20:07.562000+00:00  ff08da09-031d-4b42-8340-cc59f79ca274   \n\n                                                                      Action  \\\nTimestamp                                                                      \n2020-06-23 00:00:00.129000+00:00  {'TAction': {'topic': 'SkiConditions-VT'}}   \n2020-06-23 00:00:00.129000+00:00        {'TAction': {'topic': 'HerbGarden'}}   \n2020-06-23 00:00:00.129000+00:00         {'TAction': {'topic': 'BeyBlades'}}   \n2020-06-23 00:00:00.129000+00:00         {'TAction': {'topic': 'NYCLiving'}}   \n2020-06-23 00:00:00.129000+00:00   {'TAction': {'topic': 'MachineLearning'}}   \n...                                                                      ...   \n2020-06-23 18:20:07.562000+00:00  {'TAction': {'topic': 'SkiConditions-VT'}}   \n2020-06-23 18:20:07.562000+00:00        {'TAction': {'topic': 'HerbGarden'}}   \n2020-06-23 18:20:07.562000+00:00         {'TAction': {'topic': 'BeyBlades'}}   \n2020-06-23 18:20:07.562000+00:00         {'TAction': {'topic': 'NYCLiving'}}   \n2020-06-23 18:20:07.562000+00:00   {'TAction': {'topic': 'MachineLearning'}}   \n\n                                  SlotIdx  Cost  \nTimestamp                                        \n2020-06-23 00:00:00.129000+00:00        2   0.0  \n2020-06-23 00:00:00.129000+00:00        1   0.0  \n2020-06-23 00:00:00.129000+00:00       -1   0.0  \n2020-06-23 00:00:00.129000+00:00       -1   0.0  \n2020-06-23 00:00:00.129000+00:00        0   0.0  \n...                                   ...   ...  \n2020-06-23 18:20:07.562000+00:00        2   0.0  \n2020-06-23 18:20:07.562000+00:00        1   0.0  \n2020-06-23 18:20:07.562000+00:00       -1   0.0  \n2020-06-23 18:20:07.562000+00:00       -1   0.0  \n2020-06-23 18:20:07.562000+00:00        0   0.0  \n\n[529515 rows x 4 columns]",
      "text/html": "<div>\n<style scoped>\n    .dataframe tbody tr th:only-of-type {\n        vertical-align: middle;\n    }\n\n    .dataframe tbody tr th {\n        vertical-align: top;\n    }\n\n    .dataframe thead th {\n        text-align: right;\n    }\n</style>\n<table border=\"1\" class=\"dataframe\">\n  <thead>\n    <tr style=\"text-align: right;\">\n      <th></th>\n      <th>Session</th>\n      <th>Action</th>\n      <th>SlotIdx</th>\n      <th>Cost</th>\n    </tr>\n    <tr>\n      <th>Timestamp</th>\n      <th></th>\n      <th></th>\n      <th></th>\n      <th></th>\n    </tr>\n  </thead>\n  <tbody>\n    <tr>\n      <th>2020-06-23 00:00:00.129000+00:00</th>\n      <td>d8382bb1-43fe-4afd-a69c-b7af0fc73131</td>\n      <td>{'TAction': {'topic': 'SkiConditions-VT'}}</td>\n      <td>2</td>\n      <td>0.0</td>\n    </tr>\n    <tr>\n      <th>2020-06-23 00:00:00.129000+00:00</th>\n      <td>d8382bb1-43fe-4afd-a69c-b7af0fc73131</td>\n      <td>{'TAction': {'topic': 'HerbGarden'}}</td>\n      <td>1</td>\n      <td>0.0</td>\n    </tr>\n    <tr>\n      <th>2020-06-23 00:00:00.129000+00:00</th>\n      <td>d8382bb1-43fe-4afd-a69c-b7af0fc73131</td>\n      <td>{'TAction': {'topic': 'BeyBlades'}}</td>\n      <td>-1</td>\n      <td>0.0</td>\n    </tr>\n    <tr>\n      <th>2020-06-23 00:00:00.129000+00:00</th>\n      <td>d8382bb1-43fe-4afd-a69c-b7af0fc73131</td>\n      <td>{'TAction': {'topic': 'NYCLiving'}}</td>\n      <td>-1</td>\n      <td>0.0</td>\n    </tr>\n    <tr>\n      <th>2020-06-23 00:00:00.129000+00:00</th>\n      <td>d8382bb1-43fe-4afd-a69c-b7af0fc73131</td>\n      <td>{'TAction': {'topic': 'MachineLearning'}}</td>\n      <td>0</td>\n      <td>0.0</td>\n    </tr>\n    <tr>\n      <th>...</th>\n      <td>...</td>\n      <td>...</td>\n      <td>...</td>\n      <td>...</td>\n    </tr>\n    <tr>\n      <th>2020-06-23 18:20:07.562000+00:00</th>\n      <td>ff08da09-031d-4b42-8340-cc59f79ca274</td>\n      <td>{'TAction': {'topic': 'SkiConditions-VT'}}</td>\n      <td>2</td>\n      <td>0.0</td>\n    </tr>\n    <tr>\n      <th>2020-06-23 18:20:07.562000+00:00</th>\n      <td>ff08da09-031d-4b42-8340-cc59f79ca274</td>\n      <td>{'TAction': {'topic': 'HerbGarden'}}</td>\n      <td>1</td>\n      <td>0.0</td>\n    </tr>\n    <tr>\n      <th>2020-06-23 18:20:07.562000+00:00</th>\n      <td>ff08da09-031d-4b42-8340-cc59f79ca274</td>\n      <td>{'TAction': {'topic': 'BeyBlades'}}</td>\n      <td>-1</td>\n      <td>0.0</td>\n    </tr>\n    <tr>\n      <th>2020-06-23 18:20:07.562000+00:00</th>\n      <td>ff08da09-031d-4b42-8340-cc59f79ca274</td>\n      <td>{'TAction': {'topic': 'NYCLiving'}}</td>\n      <td>-1</td>\n      <td>0.0</td>\n    </tr>\n    <tr>\n      <th>2020-06-23 18:20:07.562000+00:00</th>\n      <td>ff08da09-031d-4b42-8340-cc59f79ca274</td>\n      <td>{'TAction': {'topic': 'MachineLearning'}}</td>\n      <td>0</td>\n      <td>0.0</td>\n    </tr>\n  </tbody>\n</table>\n<p>529515 rows × 4 columns</p>\n</div>"
     },
     "metadata": {},
     "execution_count": 75
    }
   ],
   "source": [
    "actions"
   ]
  },
  {
   "cell_type": "code",
   "execution_count": null,
   "metadata": {},
   "outputs": [],
   "source": []
  }
 ],
 "metadata": {
  "language_info": {
   "codemirror_mode": {
    "name": "ipython",
    "version": 3
   },
   "file_extension": ".py",
   "mimetype": "text/x-python",
   "name": "python",
   "nbconvert_exporter": "python",
   "pygments_lexer": "ipython3",
   "version": "3.6.5-final"
  },
  "orig_nbformat": 2,
  "kernelspec": {
   "name": "python36564bitbasecondad44845cb0df0418986ceeb24f570a602",
   "display_name": "Python 3.6.5 64-bit ('base': conda)"
  }
 },
 "nbformat": 4,
 "nbformat_minor": 2
}