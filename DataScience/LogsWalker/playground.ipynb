{
 "cells": [
  {
   "cell_type": "code",
   "execution_count": null,
   "metadata": {},
   "outputs": [],
   "source": [
    "from LogsWalker import Workspace, AppContext, InstanceContext, DayContext, DaySegment\n",
    "from LogsParser import DsJson\n",
    "import datetime\n",
    "import pandas as pd\n",
    "\n",
    "#fill your credentials here\n",
    "from azure.storage.blob import BlockBlobService\n",
    "bbs = BlockBlobService(\n",
    "    account_name='',\n",
    "    account_key='')\n",
    "adls = None"
   ]
  },
  {
   "cell_type": "code",
   "execution_count": null,
   "metadata": {},
   "outputs": [],
   "source": [
    "#Setup some local folder for files storage\n",
    "\n",
    "ws = Workspace(r'C:\\data\\workspace', bbs, adls)\n",
    "\n",
    "#Get the latest working model - or you can provide explicit model id as argument\n",
    "xbetgameshomespotlightccbsecondary = ws.get_app('my_app_name').get_instance()\n"
   ]
  },
  {
   "cell_type": "code",
   "execution_count": null,
   "metadata": {},
   "outputs": [],
   "source": [
    "#get given day\n",
    "yesterday = xbetgameshomespotlightccbsecondary.get_day(datetime.date(2020,5,3))\n",
    "\n",
    "#get latest day\n",
    "today = xbetgameshomespotlightccbsecondary.get_day()"
   ]
  },
  {
   "cell_type": "code",
   "execution_count": null,
   "metadata": {},
   "outputs": [],
   "source": [
    "#get 8 MB segment starting from 0. It should appear in your workspace folder\n",
    "starting_segment = today.get_segment(0, 8 * 1024 **2)"
   ]
  },
  {
   "cell_type": "code",
   "execution_count": null,
   "metadata": {},
   "outputs": [],
   "source": [
    "# read all lines (aligned by \\n)\n",
    "next(starting_segment.read())"
   ]
  },
  {
   "cell_type": "code",
   "execution_count": null,
   "metadata": {},
   "outputs": [],
   "source": [
    "#all ccb events stats:\n",
    "DsJson.ccb_events(starting_segment.read())"
   ]
  },
  {
   "cell_type": "code",
   "execution_count": null,
   "metadata": {},
   "outputs": [],
   "source": [
    "#get some metainformation\n",
    "today.overview()"
   ]
  },
  {
   "cell_type": "code",
   "execution_count": null,
   "metadata": {},
   "outputs": [],
   "source": [
    "#lookup offset for 1:30 AM and download corresponding segment\n",
    "segment130 = today.get_segment(today.lookup(1, 30), 8 * 1024 **2)"
   ]
  },
  {
   "cell_type": "code",
   "execution_count": null,
   "metadata": {},
   "outputs": [],
   "source": [
    "#now you can either read it as above with .read()\n",
    "DsJson.ccb_events(segment130.read())"
   ]
  },
  {
   "cell_type": "code",
   "execution_count": null,
   "metadata": {},
   "outputs": [],
   "source": [
    "#sample data\n",
    "sample = today.sample(size=128 * 1024 **2)"
   ]
  },
  {
   "cell_type": "code",
   "execution_count": null,
   "metadata": {},
   "outputs": [],
   "source": [
    "#get action stats\n",
    "import itertools\n",
    "actions = DsJson.ccb_actions(itertools.chain.from_iterable([s.read() for s in sample]))"
   ]
  }
 ],
 "metadata": {
  "language_info": {
   "codemirror_mode": {
    "name": "ipython",
    "version": 3
   },
   "file_extension": ".py",
   "mimetype": "text/x-python",
   "name": "python",
   "nbconvert_exporter": "python",
   "pygments_lexer": "ipython3",
   "version": "3.6.5-final"
  },
  "orig_nbformat": 2,
  "kernelspec": {
   "name": "python36564bitbasecondad44845cb0df0418986ceeb24f570a602",
   "display_name": "Python 3.6.5 64-bit ('base': conda)"
  }
 },
 "nbformat": 4,
 "nbformat_minor": 2
}