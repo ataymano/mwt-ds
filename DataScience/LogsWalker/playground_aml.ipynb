{
 "cells": [
  {
   "cell_type": "code",
   "execution_count": null,
   "metadata": {
    "nteract": {
     "transient": {
      "deleting": false
     }
    }
   },
   "outputs": [],
   "source": [
    "!pip install azure-storage-blob==2.1.0\r\n",
    "!pip install pandas --upgrade\r\n",
    "#then restart kernel"
   ]
  },
  {
   "cell_type": "code",
   "execution_count": null,
   "metadata": {},
   "outputs": [],
   "source": [
    "from azureml.core import Workspace\r\n",
    "ws = Workspace.from_config()\r\n",
    "print(ws.name, ws.location, ws.resource_group, sep=' | ')"
   ]
  },
  {
   "cell_type": "code",
   "execution_count": null,
   "metadata": {
    "nteract": {
     "transient": {
      "deleting": false
     }
    }
   },
   "outputs": [],
   "source": [
    "from azureml.core import Dataset\r\n",
    "usql_output = ws.datastores['usql_output']\r\n",
    "\r\n",
    "from azure.datalake.store import core, lib, multithread\r\n",
    "adlCreds = lib.auth(tenant_id=usql_output.tenant_id, resource = 'https://datalake.azure.net/')\r\n",
    "adls = core.AzureDLFileSystem(adlCreds, store_name=usql_output.store_name)"
   ]
  },
  {
   "cell_type": "code",
   "execution_count": null,
   "metadata": {
    "nteract": {
     "transient": {
      "deleting": false
     }
    }
   },
   "outputs": [],
   "source": [
    "from azureml.core import Dataset\r\n",
    "from azure.storage.blob import BlockBlobService\r\n",
    "\r\n",
    "logs = ws.datastores['rl_sim_ccb']\r\n",
    "\r\n",
    "bbs = BlockBlobService(\r\n",
    "    account_name=logs.account_name,\r\n",
    "    account_key=logs.account_key)"
   ]
  },
  {
   "cell_type": "code",
   "execution_count": null,
   "metadata": {
    "nteract": {
     "transient": {
      "deleting": false
     }
    }
   },
   "outputs": [],
   "source": [
    "from azure.storage.blob import BlockBlobService\r\n",
    "from LogsWalker import Workspace, AppContext, InstanceContext, DayContext, DaySegment\r\n",
    "from LogsParser import DsJson\r\n",
    "import datetime\r\n",
    "import pandas as pd\r\n",
    "\r\n",
    "#Setup some local folder for files storage\r\n",
    "\r\n",
    "ws = Workspace(r'workspace', bbs, adls)\r\n",
    "\r\n",
    "#Get app client\r\n",
    "app = ws.get_app(logs.container_name)\r\n",
    "\r\n",
    "#or latest\r\n",
    "instance = app.get_instance()\r\n"
   ]
  },
  {
   "cell_type": "code",
   "execution_count": null,
   "metadata": {
    "nteract": {
     "transient": {
      "deleting": false
     }
    }
   },
   "outputs": [],
   "source": [
    "instance.overview()"
   ]
  },
  {
   "cell_type": "code",
   "execution_count": null,
   "metadata": {
    "nteract": {
     "transient": {
      "deleting": false
     }
    }
   },
   "outputs": [],
   "source": [
    "#get given day\r\n",
    "oct29 = instance.get_day(datetime.date(2018,10,29))\r\n",
    "\r\n",
    "#get latest day\r\n",
    "day = instance.get_day()"
   ]
  },
  {
   "cell_type": "code",
   "execution_count": null,
   "metadata": {
    "nteract": {
     "transient": {
      "deleting": false
     }
    }
   },
   "outputs": [],
   "source": [
    "day.overview()"
   ]
  },
  {
   "cell_type": "code",
   "execution_count": null,
   "metadata": {
    "nteract": {
     "transient": {
      "deleting": false
     }
    }
   },
   "outputs": [],
   "source": [
    "segment = day.get_segment(0, 8 * 1024 **2)"
   ]
  },
  {
   "cell_type": "code",
   "execution_count": null,
   "metadata": {
    "nteract": {
     "transient": {
      "deleting": false
     }
    }
   },
   "outputs": [],
   "source": [
    "#all ccb events stats:\r\n",
    "DsJson.ccb_events(segment.read())"
   ]
  },
  {
   "cell_type": "code",
   "execution_count": null,
   "metadata": {
    "nteract": {
     "transient": {
      "deleting": false
     }
    }
   },
   "outputs": [],
   "source": [
    "#lookup offset for 11:00 AM and download corresponding segment\r\n",
    "segment1100 = day.get_segment(day.lookup(11, 00), 8 * 1024 **2)\r\n",
    "DsJson.ccb_events(segment1100.read())"
   ]
  },
  {
   "cell_type": "code",
   "execution_count": null,
   "metadata": {},
   "outputs": [],
   "source": [
    "#ccb stats (dashboard style):\n",
    "stats = DsJson.ccb_stats(segment.read())"
   ]
  },
  {
   "cell_type": "code",
   "execution_count": null,
   "metadata": {},
   "outputs": [],
   "source": [
    "stats"
   ]
  },
  {
   "cell_type": "code",
   "execution_count": null,
   "metadata": {},
   "outputs": [],
   "source": []
  }
 ],
 "metadata": {
  "kernel_info": {
   "name": "python3-azureml"
  },
  "kernelspec": {
   "display_name": "Python 3.6 - AzureML",
   "language": "python",
   "name": "python3-azureml"
  },
  "language_info": {
   "codemirror_mode": {
    "name": "ipython",
    "version": 3
   },
   "file_extension": ".py",
   "mimetype": "text/x-python",
   "name": "python",
   "nbconvert_exporter": "python",
   "pygments_lexer": "ipython3",
   "version": "3.6.9"
  },
  "nteract": {
   "version": "nteract-front-end@1.0.0"
  }
 },
 "nbformat": 4,
 "nbformat_minor": 4
}
