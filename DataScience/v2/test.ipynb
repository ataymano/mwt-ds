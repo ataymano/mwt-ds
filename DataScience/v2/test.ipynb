{
 "cells": [
  {
   "cell_type": "code",
   "execution_count": null,
   "metadata": {},
   "outputs": [],
   "source": [
    "from VwPipeline import Logger\n",
    "from VwPipeline.VwCache import VwCache\n",
    "from VwPipeline.Vw import Vw, VwInput\n",
    "\n",
    "vw_path = r'C:\\src\\VowpalWabbit\\vowpal_wabbit\\vowpalwabbit\\out\\target\\Release\\x64\\vw.exe'\n",
    "\n",
    "logger = Logger.console_logger('INFO')\n",
    "cache = VwCache(r'c:\\data\\sweep\\ws', logger)\n",
    "\n",
    "vw = Vw(vw_path, cache)"
   ]
  },
  {
   "cell_type": "code",
   "execution_count": null,
   "metadata": {
    "tags": []
   },
   "outputs": [],
   "source": [
    "inputs = [r'C:\\data\\sweep\\2.json', r'C:\\data\\sweep\\3.json']\n",
    "\n",
    "opts_in = {'#base': '--ccb_explore_adf --epsilon 0.3 --dsjson'}\n",
    "opts_out = ['--cache_file']\n",
    "\n",
    "result = vw.test(inputs, opts_in, opts_out)\n",
    "logger.info('Done')"
   ]
  },
  {
   "cell_type": "code",
   "execution_count": null,
   "metadata": {
    "tags": []
   },
   "outputs": [],
   "source": [
    "inputs = [r'C:\\data\\sweep\\2.json', r'C:\\data\\sweep\\1.json']\n",
    "\n",
    "opts_in = {'#base': '--ccb_explore_adf --epsilon 0.3 --dsjson'}\n",
    "opts_out = ['--cache_file']\n",
    "\n",
    "result = vw.train(inputs, opts_in, opts_out)\n",
    "logger.info('Done')"
   ]
  },
  {
   "cell_type": "code",
   "execution_count": null,
   "metadata": {
    "tags": []
   },
   "outputs": [],
   "source": [
    "opts_in_1 = {'#base': '--ccb_explore_adf --epsilon 0.2 --dsjson'}\n",
    "opts_in_2 = {'#base': '--ccb_explore_adf --epsilon 0.3 --dsjson'}\n",
    "opts_out = ['-f']\n",
    "\n",
    "results_par = vw.train(inputs, [opts_in_1, opts_in_2], opts_out)\n",
    "logger.info('Done')\n",
    "results_par"
   ]
  },
  {
   "cell_type": "code",
   "execution_count": null,
   "metadata": {
    "tags": []
   },
   "outputs": [],
   "source": [
    "inputs = [r'C:\\data\\sweep\\2.json', r'C:\\data\\sweep\\1.json']\n",
    "\n",
    "opts = {'#base': '--ccb_explore_adf --epsilon 0.3 --dsjson'}\n",
    "\n",
    "result = vw.cache(inputs, opts)\n",
    "logger.info('Done')"
   ]
  },
  {
   "cell_type": "code",
   "execution_count": null,
   "metadata": {},
   "outputs": [],
   "source": []
  }
 ],
 "metadata": {
  "kernelspec": {
   "display_name": "Python 3.6.6 64-bit ('aml': conda)",
   "language": "python",
   "name": "python36664bitamlcondadd63154a2a464029981bf22281476f75"
  },
  "language_info": {
   "codemirror_mode": {
    "name": "ipython",
    "version": 3
   },
   "file_extension": ".py",
   "mimetype": "text/x-python",
   "name": "python",
   "nbconvert_exporter": "python",
   "pygments_lexer": "ipython3",
   "version": "3.6.6-final"
  }
 },
 "nbformat": 4,
 "nbformat_minor": 2
}