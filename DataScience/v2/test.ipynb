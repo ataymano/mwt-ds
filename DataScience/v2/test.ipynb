{
 "cells": [
  {
   "cell_type": "code",
   "execution_count": null,
   "metadata": {},
   "outputs": [],
   "source": [
    "from Core import Workspace\n",
    "import Logger\n",
    "\n",
    "logger = Logger.console_logger(0, 'INFO')\n",
    "context = Workspace(r'c:\\data\\sweep\\ws', logger)"
   ]
  },
  {
   "cell_type": "code",
   "execution_count": null,
   "metadata": {},
   "outputs": [],
   "source": [
    "def generate_something(value1, value2):\n",
    "    return {'key1': value1, \"key2\": value2}"
   ]
  },
  {
   "cell_type": "code",
   "execution_count": null,
   "metadata": {
    "tags": []
   },
   "outputs": [],
   "source": [
    "context.run(generate_something, 1, 2)\n",
    "#pseudo-code\n",
    "#   path = md5(\"generate_somehting\" + \"1\" + \"2\")\n",
    "#   if not path.exists:\n",
    "#       result = generate_something(1, 2)\n",
    "#       json.dump(result, path)\n",
    "#       return result\n",
    "#   else:\n",
    "#       return json.read(path)"
   ]
  },
  {
   "cell_type": "code",
   "execution_count": null,
   "metadata": {},
   "outputs": [],
   "source": [
    "vw_path = r'C:\\src\\VowpalWabbit\\vowpal_wabbit\\vowpalwabbit\\out\\target\\Release\\x64\\vw.exe'\n",
    "from Vw import Vw, VwInput\n",
    "\n",
    "vw = Vw(vw_path, context, procs = 1)"
   ]
  },
  {
   "cell_type": "code",
   "execution_count": null,
   "metadata": {
    "tags": []
   },
   "outputs": [],
   "source": [
    "opts = {'#cmd': '--ccb_explore_adf --epsilon 0.1 --dsjson', '-d': r'C:\\data\\sweep\\1.json'}\n",
    "vw.run(opts)"
   ]
  },
  {
   "cell_type": "code",
   "execution_count": null,
   "metadata": {
    "tags": []
   },
   "outputs": [],
   "source": [
    "inputs = [r'C:\\data\\sweep\\1.json', r'C:\\data\\sweep\\2.json', r'C:\\data\\sweep\\3.json']\n",
    "\n",
    "opts_in = {'#base': '--ccb_explore_adf --epsilon 0.3 --dsjson'}\n",
    "opts_out = ['--cache_file']\n",
    "\n",
    "result = vw.test(inputs, opts_in, opts_out)\n",
    "#pseudocode:\n",
    "#    for i in inputs:\n",
    "#       opts_in['-d'] = i\n",
    "#       populated = populate(opts_in, opts_out)\n",
    "#       yield return (vw.run(opts_in, populated), populated)\n",
    "\n",
    "logger.info('Done')\n",
    "print(result.Loss)\n",
    "print(result.Populated)"
   ]
  },
  {
   "cell_type": "code",
   "execution_count": null,
   "metadata": {
    "tags": []
   },
   "outputs": [],
   "source": [
    "inputs = [r'C:\\data\\sweep\\1.json', r'C:\\data\\sweep\\3.json']\n",
    "\n",
    "opts_in = {'#base': '--ccb_explore_adf --epsilon 0.3 --dsjson --save_resume'}\n",
    "opts_out = ['-f']\n",
    "\n",
    "result = vw.train(inputs, opts_in, opts_out)\n",
    "#pseudocode:\n",
    "#    for i in inputs:\n",
    "#       opts_in['-d'] = i\n",
    "#       populated = populate(opts_in, opts_out)\n",
    "#       yield return (vw.run(opts_in, populated), populated)\n",
    "#       opts_in['-i'] = populated['-f']\n",
    "\n",
    "logger.info('Done')\n",
    "print(result.Loss)\n",
    "print(result.Populated)"
   ]
  },
  {
   "cell_type": "code",
   "execution_count": null,
   "metadata": {
    "tags": []
   },
   "outputs": [],
   "source": [
    "opts_in_1 = {'#base': '--ccb_explore_adf --epsilon 0.1 --dsjson --save_resume'}\n",
    "opts_in_2 = {'#base': '--ccb_explore_adf --epsilon 0.2 --dsjson --save_resume'}\n",
    "opts_out = ['-f']\n",
    "\n",
    "results_par = vw.train(inputs, [opts_in_1, opts_in_2], opts_out)\n",
    "results_par"
   ]
  },
  {
   "cell_type": "code",
   "execution_count": null,
   "metadata": {},
   "outputs": [],
   "source": [
    "from VwSweep import VwSweep\n",
    "import VwOptsGrid\n",
    "\n",
    "sweep = VwSweep(vw)\n",
    "inputs = [r'C:\\data\\sweep\\1.json', r'C:\\data\\sweep\\2.json']"
   ]
  },
  {
   "cell_type": "code",
   "execution_count": null,
   "metadata": {
    "tags": []
   },
   "outputs": [],
   "source": [
    "opts1 = {'#base': '--ccb_explore_adf --epsilon 0.3 --dsjson --save_resume', '-l': 0.1}\n",
    "opts2 = {'#base': '--ccb_explore_adf --epsilon 0.3 --dsjson --save_resume', '-l': 0.01}\n",
    "opts3 = {'#base': '--ccb_explore_adf --epsilon 0.3 --dsjson --save_resume', '-l': 0.001}\n",
    "\n",
    "opts = [opts1, opts2]\n",
    "results = sweep.iteration(inputs, opts)\n",
    "\n",
    "print('Best loss: {0}'.format(results[0].Loss))\n",
    "print('Best options: {0}'.format(results[0].Opts))"
   ]
  },
  {
   "cell_type": "code",
   "execution_count": null,
   "metadata": {},
   "outputs": [],
   "source": [
    "from VwOptsGrid import dimension, product, Grid, Configuration\n",
    "def generate_grid():\n",
    "    hyper_points_1 = product(\n",
    "        dimension('-l', [1e-6, 1e-5]),\n",
    "        dimension('--cb_type', ['ips', 'mtr']),\n",
    "    )\n",
    "    hyper_points_2 = dimension('--l1', [1e-09, 1e-07, 1e-5])\n",
    "\n",
    "    return [\n",
    "        Grid(hyper_points_1, Configuration(name='Step1', output=1, promote=1)),\n",
    "        Grid(hyper_points_2, Configuration(name='Step2', output=1, promote=1))\n",
    "    ]"
   ]
  },
  {
   "cell_type": "code",
   "execution_count": null,
   "metadata": {
    "tags": []
   },
   "outputs": [],
   "source": [
    "grid = generate_grid()\n",
    "base_command = {'#base': '--ccb_explore_adf --epsilon 0.2 --dsjson --save_resume --preserve_performance_counters'}\n",
    "\n",
    "result = sweep.run(inputs, grid, base_command)"
   ]
  },
  {
   "cell_type": "code",
   "execution_count": null,
   "metadata": {},
   "outputs": [],
   "source": [
    "result[0].Opts"
   ]
  },
  {
   "cell_type": "code",
   "execution_count": null,
   "metadata": {},
   "outputs": [],
   "source": []
  }
 ],
 "metadata": {
  "kernelspec": {
   "display_name": "Python 3.6.6 64-bit ('aml': conda)",
   "language": "python",
   "name": "python36664bitamlcondadd63154a2a464029981bf22281476f75"
  },
  "language_info": {
   "codemirror_mode": {
    "name": "ipython",
    "version": 3
   },
   "file_extension": ".py",
   "mimetype": "text/x-python",
   "name": "python",
   "nbconvert_exporter": "python",
   "pygments_lexer": "ipython3",
   "version": "3.6.6-final"
  }
 },
 "nbformat": 4,
 "nbformat_minor": 2
}