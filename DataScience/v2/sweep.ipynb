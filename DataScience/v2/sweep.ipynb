{
 "cells": [
  {
   "cell_type": "code",
   "execution_count": null,
   "metadata": {},
   "outputs": [],
   "source": [
    "from VwPipeline.Core import Workspace\n",
    "from VwPipeline import Logger\n",
    "from VwPipeline.Vw import Vw, VwInput\n",
    "from VwPipeline.VwSweep import VwSweep\n",
    "from VwPipeline import VwOptsGrid\n",
    "\n",
    "logger = Logger.console_logger(0, 'INFO')\n",
    "context = Workspace(r'C:\\data\\sweep\\ws', logger)\n",
    "\n",
    "vw_path = 'vw'\n",
    "\n",
    "vw = Vw(vw_path, context)\n",
    "\n",
    "sweep = VwSweep(vw, input_mode=VwInput.cache)"
   ]
  },
  {
   "cell_type": "code",
   "execution_count": null,
   "metadata": {},
   "outputs": [],
   "source": [
    "input_d = [r'C:\\data\\sweep\\1.json', r'C:\\data\\sweep\\2.json']\n",
    "\n",
    "base = {'#base': '--ccb_explore_adf --epsilon 0 --dsjson -b 20'}"
   ]
  },
  {
   "cell_type": "markdown",
   "metadata": {},
   "source": [
    "Caching step"
   ]
  },
  {
   "cell_type": "code",
   "execution_count": null,
   "metadata": {
    "tags": []
   },
   "outputs": [],
   "source": [
    "opts_out = ['--cache_file']\n",
    "cache_result = vw.test(input_d, base, opts_out)\n",
    "logger.info('Done')\n",
    "input_c = [i['--cache_file'] for i in cache_result.Populated]\n",
    "input_c"
   ]
  },
  {
   "cell_type": "markdown",
   "metadata": {},
   "source": [
    "Hyper parameters for single iteration"
   ]
  },
  {
   "cell_type": "code",
   "execution_count": null,
   "metadata": {},
   "outputs": [],
   "source": [
    "base = {'#base': '--ccb_explore_adf --epsilon 0 --dsjson --power_t 0 --cb_type ips --save_resume', \"#int\": '-q bc'}\n",
    "\n",
    "from VwPipeline.VwOptsGrid import dimension, product, Grid, Configuration\n",
    "import pandas as pd\n",
    "\n",
    "hyper_points = product(\n",
    "    [base],\n",
    "    dimension('-l', [1e-1, 1e-2]),\n",
    "    dimension('--l1', [1e-09, 1e-07])\n",
    ")"
   ]
  },
  {
   "cell_type": "markdown",
   "metadata": {},
   "source": [
    "Iterations - list version"
   ]
  },
  {
   "cell_type": "code",
   "execution_count": null,
   "metadata": {
    "tags": []
   },
   "outputs": [],
   "source": [
    "results = sweep.iteration(input_c, hyper_points)\n",
    "results = pd.DataFrame(map(lambda r: {'Loss': r.Loss, 'Args': r.Opts}, results)).sort_values('Loss')\n",
    "results"
   ]
  },
  {
   "cell_type": "code",
   "execution_count": null,
   "metadata": {},
   "outputs": [],
   "source": [
    "top = results.head(2)['Args'].to_list()\n",
    "top"
   ]
  },
  {
   "cell_type": "code",
   "execution_count": null,
   "metadata": {
    "tags": []
   },
   "outputs": [],
   "source": [
    "new_points = dimension('#coin', ['', '--coin'])\n",
    "new_points = product(top, new_points)\n",
    "new_points"
   ]
  },
  {
   "cell_type": "code",
   "execution_count": null,
   "metadata": {
    "tags": []
   },
   "outputs": [],
   "source": [
    "results = sweep.iteration(input_c, new_points)\n",
    "results = pd.DataFrame(map(lambda r: {'Loss': r.Loss, 'Args': r.Opts, 'Name': r.Name}, results)).sort_values('Loss')\n",
    "results"
   ]
  },
  {
   "cell_type": "code",
   "execution_count": null,
   "metadata": {
    "tags": []
   },
   "outputs": [],
   "source": [
    "predict_opts = {'#base': '--ccb_explore_adf --epsilon 0.2 --compressed --dsjson --save_resume --preserve_performance_counters'}\n",
    "predict_args = [VwOptsGrid.apply(p, predict_opts) for p in results['Args']]\n",
    "sweep.predict(input_c, predict_args)"
   ]
  },
  {
   "cell_type": "markdown",
   "metadata": {},
   "source": [
    "Pandas version"
   ]
  },
  {
   "cell_type": "code",
   "execution_count": null,
   "metadata": {},
   "outputs": [],
   "source": [
    "hp_df = pd.DataFrame({'Args': hyper_points})"
   ]
  },
  {
   "cell_type": "code",
   "execution_count": null,
   "metadata": {
    "tags": []
   },
   "outputs": [],
   "source": [
    "results = sweep.iteration_df(input_c, hp_df)\n",
    "results"
   ]
  },
  {
   "cell_type": "code",
   "execution_count": null,
   "metadata": {},
   "outputs": [],
   "source": [
    "top = results.head(2)['Args'].values\n",
    "new_points = dimension('#coin', ['', '--coin'])\n",
    "new_points = pd.DataFrame({'Args': product(top, new_points)})\n",
    "new_points"
   ]
  },
  {
   "cell_type": "code",
   "execution_count": null,
   "metadata": {
    "tags": []
   },
   "outputs": [],
   "source": [
    "results = sweep.iteration_df(input_c, new_points)\n",
    "results"
   ]
  },
  {
   "cell_type": "code",
   "execution_count": null,
   "metadata": {},
   "outputs": [],
   "source": [
    "predict_opts = {'#base': '--ccb_explore_adf --epsilon 0.2 --compressed --dsjson --save_resume --preserve_performance_counters'}\n",
    "results['PredictArgs'] = [VwOptsGrid.apply(p, predict_opts) for p in results['Args']]\n",
    "results"
   ]
  },
  {
   "cell_type": "code",
   "execution_count": null,
   "metadata": {
    "tags": []
   },
   "outputs": [],
   "source": [
    "predict_table = sweep.predict_df(input_c, results)\n",
    "predict_table"
   ]
  },
  {
   "cell_type": "code",
   "execution_count": null,
   "metadata": {},
   "outputs": [],
   "source": [
    "#todo: feed predict_table into dashboard build"
   ]
  },
  {
   "cell_type": "code",
   "execution_count": null,
   "metadata": {},
   "outputs": [],
   "source": []
  }
 ],
 "metadata": {
  "language_info": {
   "codemirror_mode": {
    "name": "ipython",
    "version": 3
   },
   "file_extension": ".py",
   "mimetype": "text/x-python",
   "name": "python",
   "nbconvert_exporter": "python",
   "pygments_lexer": "ipython3",
   "version": "3.6.6-final"
  },
  "orig_nbformat": 2,
  "kernelspec": {
   "name": "python36664bitamlcondadd63154a2a464029981bf22281476f75",
   "display_name": "Python 3.6.6 64-bit ('aml': conda)"
  }
 },
 "nbformat": 4,
 "nbformat_minor": 2
}