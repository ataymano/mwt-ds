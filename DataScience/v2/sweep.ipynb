{
 "cells": [
  {
   "cell_type": "code",
   "execution_count": null,
   "metadata": {},
   "outputs": [],
   "source": [
    "from Core import Workspace\n",
    "import Logger\n",
    "from Vw import Vw, VwInput\n",
    "from VwSweep import VwSweep\n",
    "import VwOptsGrid\n",
    "\n",
    "logger = Logger.console_logger(0, 'INFO')\n",
    "context = Workspace(r'C:\\data\\xbox\\xbetdealshomespotlight\\ws', logger)\n",
    "\n",
    "vw_path = 'vw'\n",
    "\n",
    "vw = Vw(vw_path, context)\n",
    "\n",
    "sweep = VwSweep(vw)\n"
   ]
  },
  {
   "cell_type": "code",
   "execution_count": null,
   "metadata": {},
   "outputs": [],
   "source": [
    "input_d = r'C:\\data\\xbox\\xbetdealshomespotlight\\train-5-11-2020_5-12-2020\\sample-0.004.allslots.tsv.json'\n",
    "\n",
    "base = {'#base': '--ccb_explore_adf --epsilon 0 --dsjson -b 20'}"
   ]
  },
  {
   "cell_type": "code",
   "execution_count": null,
   "metadata": {},
   "outputs": [],
   "source": [
    "opts_out = ['--cache_file']\n",
    "input_c = vw.test(input_d, base, opts_out).Populated[0]['--cache_file']\n",
    "logger.info('Done')"
   ]
  },
  {
   "cell_type": "code",
   "execution_count": null,
   "metadata": {},
   "outputs": [],
   "source": [
    "base = {'#base': '--ccb_explore_adf --epsilon 0 --dsjson --power_t 0 --cb_type ips --coin', \"#int\": '-q bc'}"
   ]
  },
  {
   "cell_type": "code",
   "execution_count": null,
   "metadata": {},
   "outputs": [],
   "source": [
    "from VwOptsGrid import dimension, product, Grid, Configuration\n",
    "import pandas as pd\n",
    "\n",
    "hyper_points = product(\n",
    "    [base],\n",
    "    dimension('-l', [1e-5, 1e-4]),\n",
    "    dimension('--l1', [1e-09, 1e-07])\n",
    ")"
   ]
  },
  {
   "cell_type": "code",
   "execution_count": null,
   "metadata": {},
   "outputs": [],
   "source": [
    "results = sweep.iteration(hyper_points, input_c)\n",
    "results = pd.DataFrame(map(lambda r: {'Loss': r.Loss, 'Args': r.Opts}, results)).sort_values('Loss')"
   ]
  },
  {
   "cell_type": "code",
   "execution_count": null,
   "metadata": {},
   "outputs": [],
   "source": [
    "results['Args'].values"
   ]
  }
 ],
 "metadata": {
  "language_info": {
   "codemirror_mode": {
    "name": "ipython",
    "version": 3
   },
   "file_extension": ".py",
   "mimetype": "text/x-python",
   "name": "python",
   "nbconvert_exporter": "python",
   "pygments_lexer": "ipython3",
   "version": "3.6.6-final"
  },
  "orig_nbformat": 2,
  "kernelspec": {
   "name": "python36664bitamlcondadd63154a2a464029981bf22281476f75",
   "display_name": "Python 3.6.6 64-bit ('aml': conda)"
  }
 },
 "nbformat": 4,
 "nbformat_minor": 2
}